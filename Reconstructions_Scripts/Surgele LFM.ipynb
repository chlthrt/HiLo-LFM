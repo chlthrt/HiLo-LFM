{
 "cells": [
  {
   "cell_type": "code",
   "execution_count": null,
   "id": "acbdc2b0",
   "metadata": {},
   "outputs": [],
   "source": [
    "import os\n",
    "import numpy as np\n",
    "from PIL import Image\n",
    "from scipy import ndimage, stats\n",
    "from scipy.fft import fft, fftfreq\n",
    "import skimage.io\n",
    "from skimage.measure import regionprops, label, find_contours\n",
    "from skimage.segmentation import flood\n",
    "import matplotlib.pyplot as plt\n",
    "from scipy.ndimage import shift, distance_transform_edt, rotate, map_coordinates, zoom\n",
    "import tifffile as tiff\n",
    "import cv2\n",
    "import glob\n",
    "from scipy.signal import wiener, find_peaks\n",
    "from circle_fit import taubinSVD, plot_data_circle, hyperSVD, prattSVD, hyperLSQ, lm, standardLSQ"
   ]
  },
  {
   "cell_type": "markdown",
   "id": "cee93d68",
   "metadata": {},
   "source": [
    "# Paths"
   ]
  },
  {
   "cell_type": "markdown",
   "id": "a91ab378",
   "metadata": {},
   "source": [
    "Working directory"
   ]
  },
  {
   "cell_type": "code",
   "execution_count": null,
   "id": "90a0a91b",
   "metadata": {},
   "outputs": [],
   "source": [
    "# save_dir = \"C:/Users/biof/Desktop/chloe/surgele/test_gui/tests_0404\"\n",
    "save_dir = \"E:/surgele/new_billes\"\n",
    "# save_dir = \"C:/Users/chloe/Desktop/juillet/tests_1007\""
   ]
  },
  {
   "cell_type": "markdown",
   "id": "ad711a30",
   "metadata": {},
   "source": [
    "Files paths"
   ]
  },
  {
   "cell_type": "code",
   "execution_count": null,
   "id": "3c72181d",
   "metadata": {},
   "outputs": [],
   "source": [
    "file_path0=os.path.join(save_dir,'snap_ref.tiff')       \n",
    "file_path=os.path.join(save_dir,'snap_plain.tiff')\n",
    "# file_path_patternS = sorted(glob.glob(os.path.join(save_dir,'speckles/*.tiff')))\n",
    "bg_path=os.path.join(save_dir,'snap_bg.tiff')"
   ]
  },
  {
   "cell_type": "markdown",
   "id": "3caea972",
   "metadata": {},
   "source": [
    "#  Functions LFM"
   ]
  },
  {
   "cell_type": "code",
   "execution_count": null,
   "id": "b5972398",
   "metadata": {},
   "outputs": [],
   "source": [
    "def pre_processing(angle, pitch, file_path, bg_path=None):\n",
    "   LFM1 = skimage.io.imread(file_path)\n",
    "   if bg_path != None:\n",
    "       bg = skimage.io.imread(bg_path)\n",
    "       LFM1 = (LFM1 - bg)\n",
    "   img_rotated = ndimage.rotate(LFM1, angle, reshape=False) \n",
    "   LFM1 = img_rotated.astype(np.int32)\n",
    "   h, w = LFM1.shape[:2]\n",
    "   fraction1 = 15/pitch\n",
    "   fraction2 = 15/pitch\n",
    "   img_resized = np.array(Image.fromarray(LFM1, mode='I').resize((int(fraction1 * w), int(fraction2 * h)), Image.Resampling.BILINEAR))\n",
    "   return img_resized\n",
    "\n",
    "# Number of microlenses in X and Y on the raw image (140 x 140 for us)\n",
    "Nx=140\n",
    "Ny=140\n",
    "\n",
    "def calibrate_LFM3(img, x, y):\n",
    "    step = 15  # espacement entre microlentilles\n",
    "\n",
    "    LFM = np.zeros((Nx, Ny, step, step))\n",
    "    XX = np.zeros((Nx, Ny))\n",
    "    YY = np.zeros((Nx, Ny))\n",
    "    CenterX = np.zeros((Nx, Ny))\n",
    "    CenterY = np.zeros((Nx, Ny))\n",
    "    CenterX_ini = np.zeros((Nx, Ny))\n",
    "    CenterY_ini = np.zeros((Nx, Ny))\n",
    "\n",
    "    for ii in range(Nx):\n",
    "        for jj in range(Ny):\n",
    "\n",
    "            if ii == 0 and jj == 0:\n",
    "                cx, cy = x, y\n",
    "            elif ii == 0:\n",
    "                # première ligne : moyenne impossible, on prend celle de gauche\n",
    "                cx = CenterX[ii, jj - 1] + step\n",
    "                cy = CenterY[ii, jj - 1]\n",
    "            elif jj == 0:\n",
    "                # premiere colonne : moyenne impossible, se base sur la lentille au-dessus\n",
    "                cx = CenterX[ii - 1, jj]\n",
    "                cy = CenterY[ii - 1, jj] + step\n",
    "            else:\n",
    "                # moyenne entre la lentille de gauche et celle du dessus\n",
    "                cx = (CenterX[ii - 1, jj] + CenterX[ii, jj - 1] + step) / 2\n",
    "                cy = (CenterY[ii - 1, jj] + CenterY[ii, jj - 1] + step) / 2\n",
    "\n",
    "            cx = int(cx)\n",
    "            cy = int(cy)\n",
    "\n",
    "            # extraction de la microlentille dans l'image\n",
    "            intermediate = img[cy-(step//2):cy+(step//2 + 1), cx-(step//2):cx+(step//2 + 1)]\n",
    "            intermediate = intermediate.astype(float)\n",
    "            \n",
    "            max_pos = np.unravel_index(np.argmax(intermediate), intermediate.shape)\n",
    "            thresh = np.percentile(intermediate, 30)\n",
    "            flooded = flood(intermediate, seed_point=max_pos, tolerance=intermediate[max_pos]-thresh)\n",
    "\n",
    "            ##### Méthode centre de masse #####\n",
    "            # a = ndimage.center_of_mass(flooded)\n",
    "            # ymax = round(a[0])\n",
    "            # xmax = round(a[1])\n",
    "\n",
    "            ##### Autre méthode géométrique #####\n",
    "            # (center_y,center_x) = get_max_distance_center2(flooded)\n",
    "            # ymax = round(center_y)\n",
    "            # xmax = round(center_x)\n",
    "\n",
    "            ##### Contours + Circle-fit #####\n",
    "            flooded = flooded.astype(np.uint8)\n",
    "            contours, _ = cv2.findContours(flooded, cv2.RETR_TREE, cv2.CHAIN_APPROX_NONE)\n",
    "            main_contour = min(contours, key=len)\n",
    "            points = main_contour[:, 0, :]  # de (n,1,2) vers (n,2)\n",
    "            fit = taubinSVD(points)\n",
    "            ymax = round(fit[1])\n",
    "            xmax = round(fit[0])\n",
    "            y = fit[1] \n",
    "            if ii==0 and jj==0:\n",
    "                plot_data_circle(points, fit[0], fit[1], fit[2])\n",
    "                plt.imshow(intermediate)\n",
    "                plt.contour(flooded, colors='r')\n",
    "                plt.plot(xmax, ymax, 'bo')  # Nouveau centre géométrique\n",
    "                plt.gca().invert_yaxis()\n",
    "                plt.title(\"Contours et centre (0,0)\")\n",
    "                plt.show()\n",
    "            if ii==70 and jj==70:\n",
    "                plot_data_circle(points, fit[0], fit[1], fit[2])\n",
    "                plt.imshow(intermediate)\n",
    "                plt.contour(flooded, colors='r')\n",
    "                plt.plot(xmax, ymax, 'bo')  # Nouveau centre géométrique\n",
    "                plt.gca().invert_yaxis()\n",
    "                plt.title(\"Contours et centre (70,70)\")\n",
    "                plt.show()\n",
    "            if ii==139 and jj==139:\n",
    "                plot_data_circle(points, fit[0], fit[1], fit[2])\n",
    "                plt.imshow(intermediate)\n",
    "                plt.contour(flooded, colors='r')\n",
    "                plt.plot(xmax, ymax, 'bo')  # Nouveau centre géométrique\n",
    "                plt.gca().invert_yaxis()\n",
    "                plt.title(\"Contours et centre (139,139)\")\n",
    "                plt.show()\n",
    "            \n",
    "            dx = xmax - (step // 2)\n",
    "            dy = ymax - (step // 2)\n",
    "\n",
    "            XX[ii, jj] = dx\n",
    "            YY[ii, jj] = dy\n",
    "\n",
    "            # ajustement du centre\n",
    "            cx_adj = cx + dx\n",
    "            cy_adj = cy + dy\n",
    "            CenterX_ini[ii, jj] = cx\n",
    "            CenterY_ini[ii, jj] = cy\n",
    "            CenterX[ii, jj] = cx_adj\n",
    "            CenterY[ii, jj] = cy_adj\n",
    "\n",
    "            # Ré-extraction de la micro-image ajustée\n",
    "            LFM[ii, jj] = img[cy_adj-(step//2):cy_adj+(step//2 + 1), cx_adj-(step//2):cx_adj+(step//2 + 1)]\n",
    "\n",
    "    return LFM, CenterX, CenterY, XX, YY, CenterX_ini, CenterY_ini\n",
    "\n",
    "def get_max_distance_center2(flooded):\n",
    "    labeled = label(flooded)\n",
    "    props = regionprops(labeled)\n",
    "    best_center = None\n",
    "    best_score = -1\n",
    "    for region in props:\n",
    "        minr, minc, maxr, maxc = region.bbox\n",
    "        if minr == 0 or minc == 0 or maxr == flooded.shape[0] or maxc == flooded.shape[1]:\n",
    "            continue  # ignore si ca touche le bord de la sous image\n",
    "        mask = (labeled == region.label)\n",
    "        dist = distance_transform_edt(mask)\n",
    "        max_idx = np.unravel_index(np.argmax(dist), dist.shape)\n",
    "        score = dist[max_idx]\n",
    "        if score > best_score:\n",
    "            best_score = score\n",
    "            best_center = max_idx\n",
    "    return best_center if best_center is not None else (ndimage.center_of_mass(flooded))\n",
    "\n",
    "def compute_LFM(img, CenterX, CenterY, XX, YY):\n",
    "    step = 15\n",
    "    LFM = np.zeros([Nx, Ny, 15, 15])\n",
    "    for ii in range(0, Nx):\n",
    "        for jj in range(0, Ny):    \n",
    "            LFM[ii, jj, :, :] = img[int(CenterY[ii, jj])-(step//2):int(CenterY[ii, jj])+(step//2 + 1), \n",
    "                                     int(CenterX[ii, jj])-(step//2):int(CenterX[ii, jj])+(step//2 + 1)]   \n",
    "    return LFM\n",
    "\n",
    "def rendered_focus(C,rendered_height, rendered_width, side, radiance, returnVal=False):\n",
    "    rendered = np.zeros((rendered_height, rendered_width))\n",
    "    center_uv = int(side/2)\n",
    "    for u in range(0, side):\n",
    "        for v in range(0, side):\n",
    "            shift_x, shift_y = C*(center_uv-u), C*(center_uv-v)\n",
    "            rendered[:, :] += shift(radiance[:, :, u, v], (shift_x, shift_y))\n",
    "    final = rendered / (side*side)\n",
    "    if returnVal:\n",
    "        return final"
   ]
  },
  {
   "cell_type": "markdown",
   "id": "2e2ecb32",
   "metadata": {},
   "source": [
    "# Basic LFM"
   ]
  },
  {
   "cell_type": "markdown",
   "id": "2f90080f",
   "metadata": {},
   "source": [
    "Find Angle then Pitch (according to best angle)"
   ]
  },
  {
   "cell_type": "code",
   "execution_count": null,
   "id": "f7f9cc2c",
   "metadata": {},
   "outputs": [],
   "source": [
    "def estimate_pitch_and_angle(image, angle_range=(-0.1, 0), angle_step=0.001, axis='horizontal'):\n",
    "    best_score = -np.inf\n",
    "    best_angle = 0\n",
    "    best_projection = None\n",
    "    \n",
    "    # Étape 1 : recherche de l'angle optimal\n",
    "    angles = np.arange(angle_range[0], angle_range[1], angle_step)\n",
    "    for angle in angles:\n",
    "        rotated = rotate(image, angle, reshape=False, order=1)\n",
    "        if axis == 'horizontal':\n",
    "            projection = np.mean(rotated, axis=0)\n",
    "        else:\n",
    "            projection = np.mean(rotated, axis=1)\n",
    "        score = np.max(projection)  # peut être remplacé par np.max(fft_magnitude), etc.\n",
    "        if score > best_score:\n",
    "            best_score = score\n",
    "            best_angle = angle\n",
    "            best_projection = projection\n",
    "    \n",
    "    # Étape 2 : calcul du pitch à partir de la FFT de la meilleure projection\n",
    "    projection = best_projection - np.mean(best_projection)  # centrer pour enlever le DC\n",
    "    fft_mag = np.abs(fft(projection))\n",
    "    freqs = fftfreq(len(projection))\n",
    "    \n",
    "    # Garder uniquement les fréquences positives\n",
    "    pos_mask = freqs > 0\n",
    "    fft_mag = fft_mag[pos_mask]\n",
    "    freqs = freqs[pos_mask]\n",
    "    \n",
    "    # Trouver le pic dominant (sauf DC)\n",
    "    peak_idx = np.argmax(fft_mag)\n",
    "    peak_freq = freqs[peak_idx]\n",
    "    pitch = 1 / peak_freq  # conversion fréquence → pitch en pixels\n",
    "    \n",
    "    return pitch, best_angle\n",
    "\n",
    "ref = skimage.io.imread(file_path0)\n",
    "bg = skimage.io.imread(bg_path)\n",
    "lfm = ref - bg\n",
    "pitch, angle = estimate_pitch_and_angle(lfm, angle_range=(-0.5, 0), angle_step=0.01, axis='horizontal')\n",
    "print(pitch, angle)"
   ]
  },
  {
   "cell_type": "markdown",
   "id": "020c7ba0",
   "metadata": {},
   "source": [
    "Pre-processing"
   ]
  },
  {
   "cell_type": "code",
   "execution_count": null,
   "id": "79b6ea95",
   "metadata": {},
   "outputs": [],
   "source": [
    "angle = -0.0099 # -0.057 pour les tests de mai\n",
    "pitch = 14.02 \n",
    "\n",
    "calibration_image=pre_processing(angle, pitch, file_path0, bg_path=None)\n",
    "bright=pre_processing(angle,pitch, file_path, bg_path=None)\n",
    "\n",
    "tiff.imwrite(os.path.join(save_dir, 'calibration_image.tiff'), calibration_image)"
   ]
  },
  {
   "cell_type": "markdown",
   "id": "cf42eafe",
   "metadata": {},
   "source": [
    "Calibration"
   ]
  },
  {
   "cell_type": "code",
   "execution_count": null,
   "id": "c7d42d5f",
   "metadata": {},
   "outputs": [],
   "source": [
    "x0 = 14 #10 # 1er centre à choisir en fonction de calibration_image\n",
    "y0 = 19 #11\n",
    "\n",
    "LFM,centerX,centerY,CX,CY, centerX_ini, centerY_ini=calibrate_LFM3(calibration_image, x0, y0)\n",
    "REF = compute_LFM(calibration_image, centerX,centerY,CX,CY)\n",
    "\n",
    "# plt.figure(figsize=(12, 4))\n",
    "# plt.subplot(1, 4, 1)\n",
    "# plt.imshow(REF[0,0,:,:])\n",
    "# plt.subplot(1, 4, 2)\n",
    "# plt.imshow(REF[10,10,:,:])\n",
    "# plt.subplot(1, 4, 3)\n",
    "# plt.imshow(REF[130,30,:,:])\n",
    "# plt.subplot(1, 4, 4)\n",
    "# plt.imshow(REF[70,70,:,:])\n",
    "# plt.show()"
   ]
  },
  {
   "cell_type": "markdown",
   "id": "3205e95a",
   "metadata": {},
   "source": [
    "CX and CY Plots"
   ]
  },
  {
   "cell_type": "code",
   "execution_count": null,
   "id": "9766f9c1",
   "metadata": {},
   "outputs": [],
   "source": [
    "plt.figure(figsize=(10, 4))\n",
    "plt.subplot(1, 2, 1)\n",
    "plt.imshow(CX)\n",
    "plt.colorbar(label='valeur décalage p/r centre initial estimé')\n",
    "plt.title(\"CX (calib: circle-fit on contours)\")\n",
    "plt.subplot(1, 2, 2)\n",
    "plt.imshow(CY)\n",
    "plt.colorbar(label='valeur décalage p/r centre initial estimé')\n",
    "plt.title(\"CY (calib: circle-fit on contours)\")\n",
    "plt.show()"
   ]
  },
  {
   "cell_type": "markdown",
   "id": "9bd18705",
   "metadata": {},
   "source": [
    "LFM Computation"
   ]
  },
  {
   "cell_type": "code",
   "execution_count": null,
   "id": "21be4a2a",
   "metadata": {},
   "outputs": [],
   "source": [
    "                              \n",
    "LFM01=compute_LFM((bright/(calibration_image+1))*np.mean(calibration_image),centerX,centerY, CX, CY)\n",
    "# LFM01=compute_LFM(cv2.normalize(bright, None, 0, 65536, cv2.NORM_MINMAX),centerX,centerY, CX, CY)\n",
    "\n",
    "rendered_height,rendered_width=LFM01.shape[0],LFM01.shape[1]\n",
    "side=LFM01.shape[2]                                          \n",
    "radiance=LFM01    "
   ]
  },
  {
   "cell_type": "markdown",
   "id": "502597cd",
   "metadata": {},
   "source": [
    "# LFM Results"
   ]
  },
  {
   "cell_type": "markdown",
   "id": "3a32d565",
   "metadata": {},
   "source": [
    "LFM Perspectives"
   ]
  },
  {
   "cell_type": "code",
   "execution_count": null,
   "id": "82049153",
   "metadata": {},
   "outputs": [],
   "source": [
    "stacked_perspectives = np.stack([radiance[:, :, i, j] for i in range(radiance.shape[3]) for j in range(radiance.shape[3])])\n",
    "tiff.imwrite(os.path.join(save_dir, 'perspectives.tif'), stacked_perspectives)"
   ]
  },
  {
   "cell_type": "markdown",
   "id": "d8d6d019",
   "metadata": {},
   "source": [
    "Epipolar Image Planes (EPI)"
   ]
  },
  {
   "cell_type": "code",
   "execution_count": null,
   "id": "843148e1",
   "metadata": {},
   "outputs": [],
   "source": [
    "grid = stacked_perspectives.reshape(15, 15, 140, 140) # (v, u, y, x)\n",
    "\n",
    "def row_strips(grid, v, y0):\n",
    "    # pick the 15 perspectives along row v\n",
    "    row_pers = grid[v, :, :, :]        # shape (15, y, x)\n",
    "    # for each, extract the vertical line (column) at y0\n",
    "    strips = [pers[y0, :] for pers in row_pers]\n",
    "    # stack into (H, 15)\n",
    "    new_img = np.stack(strips, axis=0)\n",
    "    return new_img\n",
    "\n",
    "def col_strips(grid, u, x0):\n",
    "    # pick the 15 perspectives along column c\n",
    "    col_pers = grid[:, u, :, :]        # shape (15, 140, 140)\n",
    "    # for each, extract the vertical line (column) at x0 \n",
    "    strips = [pers[:, x0] for pers in col_pers]\n",
    "    # stack into (15, W)\n",
    "    new_img = np.stack(strips, axis=1)\n",
    "    return new_img\n",
    "\n",
    "epi = row_strips(grid, v=7, y0=81)\n",
    "plt.figure(figsize=(6,6))\n",
    "plt.imshow(epi, cmap='gray')\n",
    "plt.xlabel('x')\n",
    "plt.ylabel('u')\n",
    "plt.title(f'Row {7} → horizontal strip at v={81}')\n",
    "plt.show()\n",
    "\n",
    "epi2 = col_strips(grid, u=7, x0=33)\n",
    "plt.figure(figsize=(6,6))\n",
    "plt.imshow(epi2, cmap='gray')\n",
    "plt.xlabel('v')\n",
    "plt.ylabel('y')\n",
    "plt.title(f'Column {7} → vertical strip at u={33}')\n",
    "plt.show()\n",
    "\n",
    "# theorique en shift and sum: slope = 0.033"
   ]
  },
  {
   "cell_type": "code",
   "execution_count": null,
   "id": "b7a8c281",
   "metadata": {},
   "outputs": [],
   "source": [
    "from skimage.registration import phase_cross_correlation\n",
    "\n",
    "# UNFINISHED\n",
    "\n",
    "def estimate_slope(epi):\n",
    "    shifts = []\n",
    "    for i in range(len(epi) - 1):\n",
    "        a = epi[i][None, :]    # shape (1, x)\n",
    "        b = epi[i+1][None, :]  # shape (1, x)\n",
    "        shift, _, _ = phase_cross_correlation(a, b, upsample_factor=10) # shift between one line and another\n",
    "        shifts.append(shift[1])  # shift along x\n",
    "    avg_disp = np.mean(shifts) # average on all shifts -> not the best method...\n",
    "    return avg_disp  # Δx / Δu\n",
    "\n",
    "def prepare_epi(epi):\n",
    "    if epi.shape[0] < epi.shape[1]:\n",
    "        return epi  # already [views, pixels]\n",
    "    else:\n",
    "        return epi.T  # flip [pixels, views] → [views, pixels]\n",
    "\n",
    "epi, epi2 = prepare_epi(epi), prepare_epi(epi2)\n",
    "slope = estimate_slope(epi)\n",
    "slope2 = estimate_slope(epi2)\n",
    "print(\"Estimated slope:\", slope)\n",
    "print(\"Estimated slope 2:\", slope2)"
   ]
  },
  {
   "cell_type": "markdown",
   "id": "e2c5dea8",
   "metadata": {},
   "source": [
    "Shift and Sum zStack"
   ]
  },
  {
   "cell_type": "code",
   "execution_count": null,
   "id": "e4e5ab67",
   "metadata": {},
   "outputs": [],
   "source": [
    "rendered_images=[]  # Array to store the volumetric image \n",
    "C_values=np.linspace(-2,2,25)   # Coefficient C that depends on the depth\n",
    "\n",
    "for C in (C_values):    # Apply Shift and Sum algorithm: set the depth limits and the number of slices (sampling)\n",
    "    rendered_image=rendered_focus(C, rendered_height, rendered_width, side, radiance, returnVal=True)\n",
    "    rendered_image = 65500 * (rendered_image - np.min(rendered_image)) / (np.max(rendered_image) - np.min(rendered_image))\n",
    "    rendered_images.append(rendered_image)\n",
    " \n",
    "rendered_images_stack=np.stack(rendered_images)\n",
    "\n",
    "tiff.imwrite(os.path.join(save_dir,'shiftandsum60.tif'), rendered_images_stack)"
   ]
  },
  {
   "cell_type": "markdown",
   "id": "d740a152",
   "metadata": {},
   "source": [
    "Fourier Slice Refocusing"
   ]
  },
  {
   "cell_type": "code",
   "execution_count": null,
   "id": "988d174d",
   "metadata": {},
   "outputs": [],
   "source": [
    "import importlib\n",
    "import fourierslice_refocusing\n",
    "importlib.reload(fourierslice_refocusing)\n",
    "\n",
    "refocus_stack, fft_stack, Z = fourierslice_refocusing.refocus_test(radiance, min=-60, max=60, Padding=False)\n",
    "tiff.imwrite(os.path.join(save_dir, \"fourierslice60.tif\"), refocus_stack)\n",
    "# tiff.imwrite(os.path.join(save_dir, \"fouriersliceFFT.tif\"), fft_stack)"
   ]
  },
  {
   "cell_type": "markdown",
   "id": "e021cbef",
   "metadata": {},
   "source": [
    "# HiLo-LFM Results"
   ]
  },
  {
   "cell_type": "markdown",
   "id": "a3a2e364",
   "metadata": {},
   "source": [
    "To run this part of the code, the sections above must also be executed ! They contain uniform illumination computation."
   ]
  },
  {
   "cell_type": "markdown",
   "id": "a789d25d",
   "metadata": {},
   "source": [
    "Structured Illumination: Pre-processing and LFM Computation"
   ]
  },
  {
   "cell_type": "code",
   "execution_count": null,
   "id": "33fcb74d",
   "metadata": {},
   "outputs": [],
   "source": [
    "radiance_patternS = []\n",
    "side_patternS = []\n",
    "rendered_height_patternS = []\n",
    "rendered_width_patternS = []\n",
    "i = 1\n",
    "\n",
    "for file_path_pattern in file_path_patternS:\n",
    "    pattern = pre_processing(angle, pitch, file_path_pattern, bg_path)\n",
    "    LFM01_pattern=compute_LFM((pattern/(calibration_image+1))*np.mean(calibration_image),centerX,centerY,CX,CY)\n",
    "    rendered_height_pattern,rendered_width_pattern=LFM01_pattern.shape[0],LFM01_pattern.shape[1]\n",
    "    side_pattern=LFM01_pattern.shape[2]                                          \n",
    "    radiance_pattern=LFM01_pattern\n",
    "    # print(\"Array shape:\", radiance_pattern.shape)\n",
    "    # print(\"Max value:\", np.max(radiance_pattern))\n",
    "    i += 1\n",
    "\n",
    "    radiance_patternS.append(radiance_pattern)\n",
    "    side_patternS.append(side_pattern)\n",
    "    rendered_height_patternS.append(rendered_height_pattern)\n",
    "    rendered_width_patternS.append(rendered_width_pattern)"
   ]
  },
  {
   "cell_type": "markdown",
   "id": "f76b3ebc",
   "metadata": {},
   "source": [
    "HiLo-LFM Perspectives"
   ]
  },
  {
   "cell_type": "code",
   "execution_count": null,
   "id": "06c6aa41",
   "metadata": {},
   "outputs": [],
   "source": [
    "import importlib\n",
    "import new_hilo1\n",
    "importlib.reload(new_hilo1)\n",
    "import stack_display\n",
    "importlib.reload(stack_display)\n",
    "\n",
    "hilo_perspectives = []\n",
    "\n",
    "for i in range(radiance.shape[3]):\n",
    "    for j in range(radiance.shape[3]):\n",
    "        radiance_structured = [r[:, :, i, j] for r in radiance_patternS]\n",
    "        hilo_perspective, _, _, _ = new_hilo1.basic_hilo(radiance[:, :, i, j], radiance_structured)\n",
    "        hilo_perspectives.append(hilo_perspective)\n",
    "\n",
    "hilo_perspectives_stack = np.stack(hilo_perspectives)\n",
    "\n",
    "tiff.imwrite(os.path.join(save_dir, 'hilo_perspectives2_sigma0.7.tif'), hilo_perspectives_stack)\n"
   ]
  },
  {
   "cell_type": "markdown",
   "id": "28c89f98",
   "metadata": {},
   "source": [
    "Fourier Slice Refocusing in HiLo"
   ]
  },
  {
   "cell_type": "code",
   "execution_count": null,
   "id": "d4cdc1e7",
   "metadata": {},
   "outputs": [],
   "source": [
    "import importlib\n",
    "import fourierslice_refocusing\n",
    "importlib.reload(fourierslice_refocusing)\n",
    "\n",
    "# V1\n",
    "\n",
    "U = V = int(np.sqrt(hilo_perspectives_stack.shape[0]))\n",
    "X, Y = hilo_perspectives_stack.shape[1], hilo_perspectives_stack.shape[2]\n",
    "\n",
    "# (U*V, H, W) -> (U, V, H, W) -> (H, W, U, V)\n",
    "radiance_hilo = hilo_perspectives_stack.reshape(U, V, X, Y).transpose(2, 3, 0, 1)\n",
    "\n",
    "hilo_refocus_stack, hilo_fft_stack, Z = fourierslice_refocusing.refocus_test(radiance_hilo, min=-200, max=200, Padding=False)\n",
    "tiff.imwrite(os.path.join(save_dir, \"hilo_fourierslice_v1.tif\"), hilo_refocus_stack)\n",
    "# tiff.imwrite(os.path.join(save_dir, \"hilo_fouriersliceFFT_v1.tif\"), hilo_fft_stack)"
   ]
  },
  {
   "cell_type": "code",
   "execution_count": null,
   "id": "1a7acb15",
   "metadata": {},
   "outputs": [],
   "source": [
    "import importlib\n",
    "import fourierslice_refocusing\n",
    "importlib.reload(fourierslice_refocusing)\n",
    "import new_hilo1\n",
    "importlib.reload(new_hilo1)\n",
    "\n",
    "# V2 - BEST ONE\n",
    "\n",
    "hilo_refocused_stackS = []\n",
    "for rad in radiance_patternS:\n",
    "    hilo_refocused_stack, _, _ = fourierslice_refocusing.refocus_test(rad, min=-60, max=60, Padding=True)\n",
    "    hilo_refocused_stackS.append(hilo_refocused_stack)\n",
    "\n",
    "hilos = []\n",
    "for i in range(len(refocus_stack)):\n",
    "    uniform = refocus_stack[i]  # image brute à profondeur i\n",
    "    structured = [stack[i] for stack in hilo_refocused_stackS[1:]]  # toutes les images structurées à la profondeur i\n",
    "    I_hilo, I_high, I_high_filtered, I_low_filtered = new_hilo1.basic_hilo(uniform, structured)\n",
    "    hilos.append(I_hilo)\n",
    "\n",
    "hilo_stack = np.stack(hilos)\n",
    "\n",
    "tiff.imwrite(os.path.join(save_dir,'hilo_fourierslice60_padded.tiff'), hilo_stack)"
   ]
  },
  {
   "cell_type": "markdown",
   "id": "fc2be3e9",
   "metadata": {},
   "source": [
    "Shift and Sum HiLo zStack"
   ]
  },
  {
   "cell_type": "code",
   "execution_count": null,
   "id": "8556e414",
   "metadata": {},
   "outputs": [],
   "source": [
    "rendered_images_hilo=[]  # Array to store the volumetric image \n",
    "\n",
    "C_values=np.linspace(-1.5,1.5,80)   # Coefficient C that depends on the depth\n",
    "\n",
    "for C in (C_values):    # Apply Shift and Sum algorithm: set the depth limits and the number of slices\n",
    "    rendered_image_hilo=rendered_focus(C, rendered_height, rendered_width, side, radiance_hilo, returnVal=True)\n",
    "    rendered_images_hilo.append(rendered_image_hilo)\n",
    " \n",
    "rendered_images_stack_hilo=np.stack(rendered_images_hilo)\n",
    "\n",
    "tiff.imwrite(os.path.join(save_dir,'hilo_shiftandsum.tif'), rendered_images_stack_hilo)"
   ]
  },
  {
   "cell_type": "markdown",
   "id": "c5819882",
   "metadata": {},
   "source": [
    "# Old Versions of Functions"
   ]
  },
  {
   "cell_type": "code",
   "execution_count": null,
   "id": "54815a00",
   "metadata": {},
   "outputs": [],
   "source": [
    "############# FIND PITCH AND PLOT PITCH MAP ################\n",
    "\n",
    "# def compute_local_pitch_map(image, patch_size=100, axis='horizontal'):\n",
    "#     h, w = image.shape\n",
    "#     step_y = h // patch_size\n",
    "#     step_x = w // patch_size\n",
    "#     pitch_map = np.full((step_y, step_x), np.nan)\n",
    "#     for i in range(step_y):\n",
    "#         for j in range(step_x):\n",
    "#             y0 = i*patch_size\n",
    "#             x0 = j*patch_size\n",
    "#             patch = image[y0:y0+patch_size, x0:x0+patch_size]\n",
    "#             if axis == 'horizontal':\n",
    "#                 profile = np.mean(patch, axis=0)  # moyenne sur les lignes (profil horizontal)\n",
    "#             elif axis == 'vertical':\n",
    "#                 profile = np.mean(patch, axis=1)  # moyenne sur les colonnes (profil vertical)\n",
    "#             else:\n",
    "#                 raise ValueError(\"set axis\")\n",
    "#             peaks, _ = find_peaks(profile, distance=8, prominence=10)\n",
    "#             if len(peaks) >= 2:\n",
    "#                 pitch = np.mean(np.diff(peaks))\n",
    "#                 pitch_map[i, j] = pitch\n",
    "#     return pitch_map\n",
    "\n",
    "# def plot_pitch_map(pitch_map, title='pitch map'):\n",
    "#     plt.figure(figsize=(8, 6))\n",
    "#     plt.imshow(pitch_map, cmap='viridis', origin='upper')\n",
    "#     plt.colorbar(label='pitch local en pixels')\n",
    "#     plt.title(title)\n",
    "#     plt.grid(False)\n",
    "#     plt.tight_layout()\n",
    "#     plt.show()\n",
    "\n",
    "\n",
    "# ref = skimage.io.imread(file_path0)\n",
    "# bg = skimage.io.imread(bg_path)\n",
    "# lfm = ref - bg\n",
    "\n",
    "# # Horizontal\n",
    "# pitch_map_h = compute_local_pitch_map(lfm, patch_size=100, axis='horizontal')\n",
    "# plot_pitch_map(pitch_map_h, title=\"pitch map horizontal\")\n",
    "# pitch_h_moyen = np.nanmean(pitch_map_h)\n",
    "# pitch_h_max = np.max(pitch_map_h)\n",
    "# pitch_h_min = np.min(pitch_map_h)\n",
    "# mode_result_h = stats.mode(pitch_map_h, axis=None, keepdims=False)\n",
    "# mode_val_h = mode_result_h.mode\n",
    "# mode_count_h = mode_result_h.count\n",
    "# print(f\"Pitch horizontal moyen : {pitch_h_moyen:.2f} pixels\")\n",
    "# print(f\"Pitch horizontal max : {pitch_h_max:.2f} pixels\")\n",
    "# print(f\"Pitch horizontal min : {pitch_h_min:.2f} pixels\")\n",
    "# print(f\"Mode horizontal: {mode_val_h} (appears {mode_count_h} times)\")\n",
    "\n",
    "# # Vertical\n",
    "# pitch_map_v = compute_local_pitch_map(lfm, patch_size=100, axis='vertical')\n",
    "# plot_pitch_map(pitch_map_v, title=\"pitch map vertical\")\n",
    "# pitch_v_moyen = np.nanmean(pitch_map_v)\n",
    "# pitch_v_max = np.max(pitch_map_v)\n",
    "# pitch_v_min = np.min(pitch_map_v)\n",
    "# mode_result_v = stats.mode(pitch_map_h, axis=None, keepdims=False)\n",
    "# mode_val_v = mode_result_v.mode\n",
    "# mode_count_v = mode_result_v.count\n",
    "# print(f\"Pitch vertical moyen : {pitch_v_moyen:.2f} pixels\")\n",
    "# print(f\"Pitch vertical max : {pitch_v_max:.2f} pixels\")\n",
    "# print(f\"Pitch vertical min : {pitch_v_min:.2f} pixels\")\n",
    "# print(f\"Mode horizontal: {mode_val_v} (appears {mode_count_v} times)\")"
   ]
  },
  {
   "cell_type": "code",
   "execution_count": null,
   "id": "025489d7",
   "metadata": {},
   "outputs": [],
   "source": [
    "############ FIND ANGLE OF ROTATION AFTER PITCH ################\n",
    "\n",
    "# pitch = 14.0 #14.05\n",
    "# angles = np.arange(-0.1, 0, 0.01)\n",
    "# scores = []\n",
    "# for angle in angles:\n",
    "#     calibration_image=pre_processing(angle, pitch, file_path0, bg_path)\n",
    "#     projection = np.sum(calibration_image, axis=0)  # somme verticale (profil horizontal)\n",
    "#     score = np.var(projection)  # ou np.std() ou np.max()-np.min()\n",
    "#     scores.append(score)\n",
    "\n",
    "# best_angle = angles[np.argmax(scores)]\n",
    "# print(f\"Meilleur angle d’alignement : {best_angle}°\")\n",
    "# plt.figure()\n",
    "# plt.plot(angles, scores, marker='o')\n",
    "# plt.title(\"Score (variance des colonnes) vs angle de rotation\")\n",
    "# plt.xlabel(\"Angle (°)\")\n",
    "# plt.ylabel(\"Score (variance)\")\n",
    "# plt.grid(True)\n",
    "# plt.tight_layout()\n",
    "# plt.show()"
   ]
  },
  {
   "cell_type": "code",
   "execution_count": null,
   "id": "35e4f300",
   "metadata": {},
   "outputs": [],
   "source": [
    "################### OLD HILO ZSTACK RECONSTRUCTION ##################\n",
    "\n",
    "# rendered_images_patterns = [[] for _ in range(len(radiance_patternS))]  # liste de listes\n",
    "# C_values = np.linspace(-2.5, 2.5, 80)   # Coefficient C that depends on the depth\n",
    "\n",
    "# for C in C_values:\n",
    "#     rendered_images_at_C = []  # les images de tous les patterns pour ce C\n",
    "\n",
    "#     for i in range(len(radiance_patternS)):\n",
    "#         rendered_image = rendered_focus(C, rendered_height_patternS[i], rendered_width_patternS[i], side_patternS[i], radiance_patternS[i], returnVal=True)\n",
    "#         rendered_images_patterns[i].append(rendered_image)\n",
    "#         rendered_images_at_C.append(rendered_image)\n",
    "\n",
    "# # Empilement de toutes les images pour chaque pattern\n",
    "# rendered_images_stackS = [np.stack(rendered_images) for rendered_images in rendered_images_patterns]\n",
    "\n",
    "\n",
    "# hilos = []\n",
    "# for i in range(len(C_values)):\n",
    "#     uniform = rendered_images_stack[i]  # image brute à profondeur i\n",
    "#     structured = [stack[i] for stack in rendered_images_stackS[1:]]  # toutes les images structurées à la profondeur i\n",
    "#     I_hilo, I_high, I_high_filtered, I_low_filtered = hilo.hilo_reconstruction2(uniform, structured, sigma=1)\n",
    "#     hilos.append(I_hilo)\n",
    "\n",
    "# hilo_stack = np.stack(hilos)\n",
    "\n",
    "# # Save HiLo z stack\n",
    "# tiff.imwrite(os.path.join(save_dir,'hilo_zstack3.tiff'), hilo_stack)"
   ]
  }
 ],
 "metadata": {
  "kernelspec": {
   "display_name": "silfm",
   "language": "python",
   "name": "python3"
  },
  "language_info": {
   "codemirror_mode": {
    "name": "ipython",
    "version": 3
   },
   "file_extension": ".py",
   "mimetype": "text/x-python",
   "name": "python",
   "nbconvert_exporter": "python",
   "pygments_lexer": "ipython3",
   "version": "3.10.16"
  }
 },
 "nbformat": 4,
 "nbformat_minor": 5
}
